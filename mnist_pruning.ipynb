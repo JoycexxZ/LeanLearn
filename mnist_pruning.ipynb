{
  "cells": [
    {
      "cell_type": "code",
      "execution_count": null,
      "metadata": {
        "cellView": "form",
        "id": "ScyDt14r8MLU"
      },
      "outputs": [],
      "source": [
        "#@title LICENSE\n",
        "# Licensed under the Apache License, Version 2.0"
      ]
    },
    {
      "cell_type": "markdown",
      "metadata": {
        "id": "-BS3RFRLRotm"
      },
      "source": [
        "[![Open In Colab](https://colab.research.google.com/assets/colab-badge.svg)](https://colab.research.google.com/github/google-research/jaxpruner/blob/main/colabs/mnist_pruning.ipynb)"
      ]
    },
    {
      "cell_type": "markdown",
      "metadata": {
        "id": "Tt0rL4ycp4ZB"
      },
      "source": [
        "## Imports / Helpers"
      ]
    },
    {
      "cell_type": "code",
      "execution_count": 1,
      "metadata": {
        "id": "EdzHCJuop4ZB"
      },
      "outputs": [
        {
          "name": "stderr",
          "output_type": "stream",
          "text": [
            "/home/yufan/anaconda3/envs/test_pruning/lib/python3.10/site-packages/tqdm/auto.py:21: TqdmWarning: IProgress not found. Please update jupyter and ipywidgets. See https://ipywidgets.readthedocs.io/en/stable/user_install.html\n",
            "  from .autonotebook import tqdm as notebook_tqdm\n",
            "2023-10-11 01:26:19.147702: E tensorflow/compiler/xla/stream_executor/cuda/cuda_dnn.cc:9342] Unable to register cuDNN factory: Attempting to register factory for plugin cuDNN when one has already been registered\n",
            "2023-10-11 01:26:19.147732: E tensorflow/compiler/xla/stream_executor/cuda/cuda_fft.cc:609] Unable to register cuFFT factory: Attempting to register factory for plugin cuFFT when one has already been registered\n",
            "2023-10-11 01:26:19.147763: E tensorflow/compiler/xla/stream_executor/cuda/cuda_blas.cc:1518] Unable to register cuBLAS factory: Attempting to register factory for plugin cuBLAS when one has already been registered\n",
            "2023-10-11 01:26:19.951039: W tensorflow/compiler/tf2tensorrt/utils/py_utils.cc:38] TF-TRT Warning: Could not find TensorRT\n",
            "2023-10-11 01:26:20.932706: W tensorflow/core/common_runtime/gpu/gpu_device.cc:2211] Cannot dlopen some GPU libraries. Please make sure the missing libraries mentioned above are installed properly if you would like to use GPU. Follow the guide at https://www.tensorflow.org/install/gpu for how to download and setup the required libraries for your platform.\n",
            "Skipping registering GPU devices...\n"
          ]
        }
      ],
      "source": [
        "from absl import logging\n",
        "import flax\n",
        "import jax.numpy as jnp\n",
        "from matplotlib import pyplot as plt\n",
        "import numpy as np\n",
        "import tensorflow_datasets as tfds\n",
        "from flax import linen as nn\n",
        "from flax.metrics import tensorboard\n",
        "from flax.training import train_state\n",
        "import jax\n",
        "import optax\n",
        "import tensorflow as tf\n",
        "# Hide any GPUs form TensorFlow. Otherwise TF might reserve memory and make\n",
        "# it unavailable to JAX.\n",
        "tf.config.experimental.set_visible_devices([], \"GPU\")\n",
        "\n",
        "\n",
        "logging.set_verbosity(logging.INFO)"
      ]
    },
    {
      "cell_type": "code",
      "execution_count": 2,
      "metadata": {
        "id": "AKD2Zjfv8YnK"
      },
      "outputs": [
        {
          "name": "stdout",
          "output_type": "stream",
          "text": [
            "Collecting git+https://github.com/google-research/jaxpruner\n",
            "  Cloning https://github.com/google-research/jaxpruner to /tmp/pip-req-build-8f06akds\n",
            "  Running command git clone --filter=blob:none --quiet https://github.com/google-research/jaxpruner /tmp/pip-req-build-8f06akds\n",
            "  Resolved https://github.com/google-research/jaxpruner to commit 4a6f4e8ebf8432a994792506ec9a29bac2059089\n",
            "  Preparing metadata (setup.py) ... \u001b[?25ldone\n",
            "\u001b[?25hRequirement already satisfied: chex in /home/yufan/anaconda3/envs/test_pruning/lib/python3.10/site-packages (from jaxpruner==0.1) (0.1.83)\n",
            "Requirement already satisfied: flax in /home/yufan/anaconda3/envs/test_pruning/lib/python3.10/site-packages (from jaxpruner==0.1) (0.7.4)\n",
            "Requirement already satisfied: jax in /home/yufan/anaconda3/envs/test_pruning/lib/python3.10/site-packages (from jaxpruner==0.1) (0.4.18)\n",
            "Requirement already satisfied: jaxlib in /home/yufan/anaconda3/envs/test_pruning/lib/python3.10/site-packages (from jaxpruner==0.1) (0.4.18)\n",
            "Requirement already satisfied: optax in /home/yufan/anaconda3/envs/test_pruning/lib/python3.10/site-packages (from jaxpruner==0.1) (0.1.7)\n",
            "Requirement already satisfied: numpy in /home/yufan/anaconda3/envs/test_pruning/lib/python3.10/site-packages (from jaxpruner==0.1) (1.26.0)\n",
            "Requirement already satisfied: ml-collections in /home/yufan/anaconda3/envs/test_pruning/lib/python3.10/site-packages (from jaxpruner==0.1) (0.1.1)\n",
            "Requirement already satisfied: absl-py>=0.9.0 in /home/yufan/anaconda3/envs/test_pruning/lib/python3.10/site-packages (from chex->jaxpruner==0.1) (1.4.0)\n",
            "Requirement already satisfied: typing-extensions>=4.2.0 in /home/yufan/anaconda3/envs/test_pruning/lib/python3.10/site-packages (from chex->jaxpruner==0.1) (4.8.0)\n",
            "Requirement already satisfied: toolz>=0.9.0 in /home/yufan/anaconda3/envs/test_pruning/lib/python3.10/site-packages (from chex->jaxpruner==0.1) (0.12.0)\n",
            "Requirement already satisfied: ml-dtypes>=0.2.0 in /home/yufan/anaconda3/envs/test_pruning/lib/python3.10/site-packages (from jax->jaxpruner==0.1) (0.2.0)\n",
            "Requirement already satisfied: opt-einsum in /home/yufan/anaconda3/envs/test_pruning/lib/python3.10/site-packages (from jax->jaxpruner==0.1) (3.3.0)\n",
            "Requirement already satisfied: scipy>=1.7 in /home/yufan/anaconda3/envs/test_pruning/lib/python3.10/site-packages (from jax->jaxpruner==0.1) (1.11.3)\n",
            "Requirement already satisfied: msgpack in /home/yufan/anaconda3/envs/test_pruning/lib/python3.10/site-packages (from flax->jaxpruner==0.1) (1.0.7)\n",
            "Requirement already satisfied: orbax-checkpoint in /home/yufan/anaconda3/envs/test_pruning/lib/python3.10/site-packages (from flax->jaxpruner==0.1) (0.4.1)\n",
            "Requirement already satisfied: tensorstore in /home/yufan/anaconda3/envs/test_pruning/lib/python3.10/site-packages (from flax->jaxpruner==0.1) (0.1.45)\n",
            "Requirement already satisfied: rich>=11.1 in /home/yufan/anaconda3/envs/test_pruning/lib/python3.10/site-packages (from flax->jaxpruner==0.1) (13.6.0)\n",
            "Requirement already satisfied: PyYAML>=5.4.1 in /home/yufan/anaconda3/envs/test_pruning/lib/python3.10/site-packages (from flax->jaxpruner==0.1) (6.0.1)\n",
            "Requirement already satisfied: six in /home/yufan/anaconda3/envs/test_pruning/lib/python3.10/site-packages (from ml-collections->jaxpruner==0.1) (1.16.0)\n",
            "Requirement already satisfied: contextlib2 in /home/yufan/anaconda3/envs/test_pruning/lib/python3.10/site-packages (from ml-collections->jaxpruner==0.1) (21.6.0)\n",
            "Requirement already satisfied: markdown-it-py>=2.2.0 in /home/yufan/anaconda3/envs/test_pruning/lib/python3.10/site-packages (from rich>=11.1->flax->jaxpruner==0.1) (3.0.0)\n",
            "Requirement already satisfied: pygments<3.0.0,>=2.13.0 in /home/yufan/anaconda3/envs/test_pruning/lib/python3.10/site-packages (from rich>=11.1->flax->jaxpruner==0.1) (2.15.1)\n",
            "Requirement already satisfied: etils[epath,epy] in /home/yufan/anaconda3/envs/test_pruning/lib/python3.10/site-packages (from orbax-checkpoint->flax->jaxpruner==0.1) (1.5.0)\n",
            "Requirement already satisfied: nest_asyncio in /home/yufan/anaconda3/envs/test_pruning/lib/python3.10/site-packages (from orbax-checkpoint->flax->jaxpruner==0.1) (1.5.6)\n",
            "Requirement already satisfied: protobuf in /home/yufan/anaconda3/envs/test_pruning/lib/python3.10/site-packages (from orbax-checkpoint->flax->jaxpruner==0.1) (3.20.3)\n",
            "Requirement already satisfied: mdurl~=0.1 in /home/yufan/anaconda3/envs/test_pruning/lib/python3.10/site-packages (from markdown-it-py>=2.2.0->rich>=11.1->flax->jaxpruner==0.1) (0.1.2)\n",
            "Requirement already satisfied: fsspec in /home/yufan/anaconda3/envs/test_pruning/lib/python3.10/site-packages (from etils[epath,epy]->orbax-checkpoint->flax->jaxpruner==0.1) (2023.9.2)\n",
            "Requirement already satisfied: importlib_resources in /home/yufan/anaconda3/envs/test_pruning/lib/python3.10/site-packages (from etils[epath,epy]->orbax-checkpoint->flax->jaxpruner==0.1) (6.1.0)\n",
            "Requirement already satisfied: zipp in /home/yufan/anaconda3/envs/test_pruning/lib/python3.10/site-packages (from etils[epath,epy]->orbax-checkpoint->flax->jaxpruner==0.1) (3.17.0)\n"
          ]
        }
      ],
      "source": [
        "!pip3 install git+https://github.com/google-research/jaxpruner\n",
        "import jaxpruner\n",
        "import ml_collections"
      ]
    },
    {
      "cell_type": "markdown",
      "metadata": {
        "id": "gGi7zcRpp4ZL"
      },
      "source": [
        "## Dataset"
      ]
    },
    {
      "cell_type": "code",
      "execution_count": 4,
      "metadata": {
        "id": "J7zXhAmXhfHt"
      },
      "outputs": [],
      "source": [
        "def get_datasets():\n",
        "  \"\"\"Load MNIST train and test datasets into memory.\"\"\"\n",
        "  ds_builder = tfds.builder('mnist')\n",
        "  ds_builder.download_and_prepare()\n",
        "  train_ds = tfds.as_numpy(ds_builder.as_dataset(split='train', batch_size=-1))\n",
        "  test_ds = tfds.as_numpy(ds_builder.as_dataset(split='test', batch_size=-1))\n",
        "  train_ds['image'] = jnp.float32(train_ds['image']) / 255.\n",
        "  test_ds['image'] = jnp.float32(test_ds['image']) / 255.\n",
        "  return train_ds, test_ds\n",
        "\n",
        "# Helper functions for images.\n",
        "\n",
        "def show_img(img, ax=None, title=None):\n",
        "  \"\"\"Shows a single image.\"\"\"\n",
        "  if ax is None:\n",
        "    ax = plt.gca()\n",
        "  ax.imshow(img[..., 0], cmap='gray')\n",
        "  ax.set_xticks([])\n",
        "  ax.set_yticks([])\n",
        "  if title:\n",
        "    ax.set_title(title)\n",
        "\n",
        "def show_img_grid(imgs, titles):\n",
        "  \"\"\"Shows a grid of images.\"\"\"\n",
        "  n = int(np.ceil(len(imgs)**.5))\n",
        "  _, axs = plt.subplots(n, n, figsize=(3 * n, 3 * n))\n",
        "  for i, (img, title) in enumerate(zip(imgs, titles)):\n",
        "    show_img(img, axs[i // n][i % n], title)"
      ]
    },
    {
      "cell_type": "code",
      "execution_count": 6,
      "metadata": {
        "id": "BRg0rNsJp4ZL",
        "tags": []
      },
      "outputs": [
        {
          "name": "stderr",
          "output_type": "stream",
          "text": [
            "INFO:absl:Load dataset info from /home/yufan/tensorflow_datasets/mnist/3.0.1\n",
            "INFO:absl:For 'mnist/3.0.1': fields info.[citation, splits, supervised_keys, module_name] differ on disk and in the code. Keeping the one from code.\n",
            "INFO:absl:Reusing dataset mnist (/home/yufan/tensorflow_datasets/mnist/3.0.1)\n",
            "INFO:absl:Constructing tf.data.Dataset mnist for split train, from /home/yufan/tensorflow_datasets/mnist/3.0.1\n",
            "INFO:absl:Constructing tf.data.Dataset mnist for split test, from /home/yufan/tensorflow_datasets/mnist/3.0.1\n"
          ]
        }
      ],
      "source": [
        "# Get datasets as dict of JAX arrays.\n",
        "train_ds, test_ds = get_datasets()"
      ]
    },
    {
      "cell_type": "code",
      "execution_count": 7,
      "metadata": {
        "id": "B0LgjT3Vp4ZP"
      },
      "outputs": [
        {
          "data": {
            "image/png": "[encoded data removed]",
            "text/plain": [
              "<Figure size 1500x1500 with 25 Axes>"
            ]
          },
          "metadata": {},
          "output_type": "display_data"
        }
      ],
      "source": [
        "show_img_grid(\n",
        "    [train_ds['image'][idx] for idx in range(25)],\n",
        "    [f'label={train_ds[\"label\"][idx]}' for idx in range(25)],\n",
        ")"
      ]
    },
    {
      "cell_type": "markdown",
      "metadata": {
        "id": "KqW8WP5bp4ZS"
      },
      "source": [
        "## Training"
      ]
    },
    {
      "cell_type": "code",
      "execution_count": 8,
      "metadata": {
        "id": "KmG9pXPWh7sh"
      },
      "outputs": [],
      "source": [
        "import ml_collections\n",
        "\n",
        "class CNN(nn.Module):\n",
        "  \"\"\"A simple CNN model.\"\"\"\n",
        "\n",
        "  @nn.compact\n",
        "  def __call__(self, x):\n",
        "    x = nn.Conv(features=32, kernel_size=(3, 3))(x)\n",
        "    x = nn.relu(x)\n",
        "    x = nn.avg_pool(x, window_shape=(2, 2), strides=(2, 2))\n",
        "    x = nn.Conv(features=64, kernel_size=(3, 3))(x)\n",
        "    x = nn.relu(x)\n",
        "    x = nn.avg_pool(x, window_shape=(2, 2), strides=(2, 2))\n",
        "    x = x.reshape((x.shape[0], -1))  # flatten\n",
        "    x = nn.Dense(features=256)(x)\n",
        "    x = nn.relu(x)\n",
        "    x = nn.Dense(features=10)(x)\n",
        "    return x\n",
        "\n",
        "\n",
        "@jax.jit\n",
        "def apply_model(state, images, labels):\n",
        "  \"\"\"Computes gradients, loss and accuracy for a single batch.\"\"\"\n",
        "  def loss_fn(params):\n",
        "    logits = state.apply_fn({'params': params}, images)\n",
        "    one_hot = jax.nn.one_hot(labels, 10)\n",
        "    loss = jnp.mean(optax.softmax_cross_entropy(logits=logits, labels=one_hot))\n",
        "    return loss, logits\n",
        "\n",
        "  grad_fn = jax.value_and_grad(loss_fn, has_aux=True)\n",
        "  (loss, logits), grads = grad_fn(state.params)\n",
        "  accuracy = jnp.mean(jnp.argmax(logits, -1) == labels)\n",
        "  return grads, loss, accuracy\n",
        "\n",
        "\n",
        "@jax.jit\n",
        "def update_model(state, grads):\n",
        "  updates, new_opt_state = state.tx.update(\n",
        "      grads, state.opt_state, state.params)\n",
        "  new_params = optax.apply_updates(state.params, updates)\n",
        "  return state.replace(\n",
        "      step=state.step + 1,\n",
        "      params=new_params,\n",
        "      opt_state=new_opt_state)\n",
        "\n",
        "\n",
        "def train_epoch(state, train_ds, batch_size, rng, sparsity_updater):\n",
        "  \"\"\"Train for a single epoch.\"\"\"\n",
        "  train_ds_size = len(train_ds['image'])\n",
        "  steps_per_epoch = train_ds_size // batch_size\n",
        "\n",
        "  perms = jax.random.permutation(rng, len(train_ds['image']))\n",
        "  perms = perms[:steps_per_epoch * batch_size]  # skip incomplete batch\n",
        "  perms = perms.reshape((steps_per_epoch, batch_size))\n",
        "\n",
        "  epoch_loss = []\n",
        "  epoch_accuracy = []\n",
        "  is_ste = isinstance(sparsity_updater, (jaxpruner.SteMagnitudePruning,\n",
        "                                         jaxpruner.SteRandomPruning))\n",
        "  pre_op = jax.jit(sparsity_updater.pre_forward_update)\n",
        "  post_op = jax.jit(sparsity_updater.post_gradient_update)\n",
        "  for i, perm in enumerate(perms):\n",
        "    batch_images = train_ds['image'][perm, ...]\n",
        "    batch_labels = train_ds['label'][perm, ...]\n",
        "    # Following is only needed for STE.\n",
        "    new_params = pre_op(state.params, state.opt_state)\n",
        "    forward_state = state.replace(params=new_params)\n",
        "\n",
        "    grads, loss, accuracy = apply_model(forward_state, batch_images,\n",
        "                                        batch_labels)\n",
        "    state = update_model(state, grads)\n",
        "    post_params = post_op(state.params, state.opt_state)\n",
        "    state = state.replace(params=post_params)\n",
        "    epoch_loss.append(loss)\n",
        "    epoch_accuracy.append(accuracy)\n",
        "    if i % 100 == 0:\n",
        "      if is_ste:\n",
        "        print(jaxpruner.summarize_sparsity(\n",
        "            new_params, only_total_sparsity=True))\n",
        "      else:\n",
        "        print(jaxpruner.summarize_sparsity(\n",
        "            state.params, only_total_sparsity=True))\n",
        "  train_loss = np.mean(epoch_loss)\n",
        "  train_accuracy = np.mean(epoch_accuracy)\n",
        "  return state, train_loss, train_accuracy\n",
        "\n",
        "\n",
        "def create_train_state(rng, config):\n",
        "  \"\"\"Creates initial `TrainState`.\"\"\"\n",
        "  cnn = CNN()\n",
        "  params = cnn.init(rng, jnp.ones([1, 28, 28, 1]))['params']\n",
        "  sparsity_updater = jaxpruner.create_updater_from_config(config.sparsity_config)\n",
        "  tx = optax.sgd(config.learning_rate, config.momentum)\n",
        "  tx = sparsity_updater.wrap_optax(tx)\n",
        "\n",
        "  return train_state.TrainState.create(\n",
        "      apply_fn=cnn.apply, params=params, tx=tx), sparsity_updater\n",
        "\n",
        "\n",
        "import time\n",
        "\n",
        "def train_and_evaluate(config: ml_collections.ConfigDict\n",
        "                       ) -> train_state.TrainState:\n",
        "  \"\"\"Execute model training and evaluation loop.\n",
        "\n",
        "  Args:\n",
        "    config: Hyperparameter configuration for training and evaluation.\n",
        "    workdir: Directory where the tensorboard summaries are written to.\n",
        "\n",
        "  Returns:\n",
        "    The train state (which includes the `.params`).\n",
        "  \"\"\"\n",
        "  train_ds, test_ds = get_datasets()\n",
        "  rng = jax.random.PRNGKey(0)\n",
        "\n",
        "  rng, init_rng = jax.random.split(rng)\n",
        "\n",
        "  state, sparsity_updater = create_train_state(init_rng, config)\n",
        "\n",
        "  for epoch in range(1, config.num_epochs + 1):\n",
        "    s_time = time.time()\n",
        "    rng, input_rng = jax.random.split(rng)\n",
        "    state, train_loss, train_accuracy = train_epoch(state, train_ds,\n",
        "                                                    config.batch_size,\n",
        "                                                    input_rng,\n",
        "                                                    sparsity_updater)\n",
        "    # Following is only needed for STE.\n",
        "    new_params = sparsity_updater.pre_forward_update(\n",
        "        state.params, state.opt_state)\n",
        "    forward_state = state.replace(params=new_params)\n",
        "\n",
        "    _, test_loss, test_accuracy = apply_model(forward_state, test_ds['image'],\n",
        "                                              test_ds['label'])\n",
        "\n",
        "    print(\n",
        "        'epoch:% 3d, train_loss: %.4f, train_accuracy: %.2f, test_loss: %.4f, test_accuracy: %.2f, time: %.2f'\n",
        "        % (epoch, train_loss, train_accuracy * 100, test_loss,\n",
        "           test_accuracy * 100, time.time() - s_time))\n",
        "\n",
        "  return forward_state"
      ]
    },
    {
      "cell_type": "markdown",
      "metadata": {
        "id": "R5za4NrVw40K"
      },
      "source": [
        "# Jaxpruner API"
      ]
    },
    {
      "cell_type": "code",
      "execution_count": 9,
      "metadata": {
        "id": "Be-Bn7R6tsz7"
      },
      "outputs": [
        {
          "data": {
            "text/plain": [
              "('no_prune',\n",
              " 'magnitude',\n",
              " 'random',\n",
              " 'saliency',\n",
              " 'magnitude_ste',\n",
              " 'random_ste',\n",
              " 'global_magnitude',\n",
              " 'global_saliency',\n",
              " 'static_sparse',\n",
              " 'rigl',\n",
              " 'set')"
            ]
          },
          "execution_count": 9,
          "metadata": {},
          "output_type": "execute_result"
        }
      ],
      "source": [
        "jaxpruner.all_algorithm_names()"
      ]
    },
    {
      "cell_type": "code",
      "execution_count": 10,
      "metadata": {
        "id": "XMVhTvc0tsM1"
      },
      "outputs": [],
      "source": [
        "config = ml_collections.ConfigDict()\n",
        "\n",
        "config.learning_rate = 0.1\n",
        "config.momentum = 0.9\n",
        "config.batch_size = 128\n",
        "config.num_epochs = 3 # 1 epoch is 468 steps for bs=128\n",
        "\n",
        "config.sparsity_config = ml_collections.ConfigDict()\n",
        "config.sparsity_config.algorithm = 'magnitude'\n",
        "config.sparsity_config.update_freq = 10\n",
        "config.sparsity_config.update_end_step = 1000\n",
        "config.sparsity_config.update_start_step = 200\n",
        "config.sparsity_config.sparsity = 0.95\n",
        "config.sparsity_config.dist_type = 'erk'"
      ]
    },
    {
      "cell_type": "code",
      "execution_count": 11,
      "metadata": {
        "id": "NihrDoDm2yAz"
      },
      "outputs": [
        {
          "data": {
            "text/plain": [
              "MagnitudePruning(scheduler=PolynomialSchedule(update_freq=10, update_start_step=200, update_end_step=1000, power=3), skip_gradients=False, is_sparse_gradients=False, sparsity_type=Unstructured(), sparsity_distribution_fn=functools.partial(<function erk at 0x7f24a87a1ab0>, sparsity=0.95), rng_seed=Array([0, 8], dtype=uint32), use_packed_masks=False)"
            ]
          },
          "execution_count": 11,
          "metadata": {},
          "output_type": "execute_result"
        }
      ],
      "source": [
        "jaxpruner.create_updater_from_config(config.sparsity_config)"
      ]
    },
    {
      "cell_type": "code",
      "execution_count": 12,
      "metadata": {
        "id": "RHoBUKSkp4ZS",
        "tags": []
      },
      "outputs": [
        {
          "name": "stderr",
          "output_type": "stream",
          "text": [
            "INFO:absl:Load dataset info from /home/yufan/tensorflow_datasets/mnist/3.0.1\n",
            "INFO:absl:For 'mnist/3.0.1': fields info.[citation, splits, supervised_keys, module_name] differ on disk and in the code. Keeping the one from code.\n",
            "INFO:absl:Reusing dataset mnist (/home/yufan/tensorflow_datasets/mnist/3.0.1)\n",
            "INFO:absl:Constructing tf.data.Dataset mnist for split train, from /home/yufan/tensorflow_datasets/mnist/3.0.1\n",
            "INFO:absl:Constructing tf.data.Dataset mnist for split test, from /home/yufan/tensorflow_datasets/mnist/3.0.1\n"
          ]
        },
        {
          "name": "stdout",
          "output_type": "stream",
          "text": [
            "{'_total_sparsity': Array(2.0623207e-05, dtype=float32), '_nparams_nnz': Array(824441., dtype=float32), '_nparams': Array(824458., dtype=float32)}\n",
            "{'_total_sparsity': Array(0., dtype=float32), '_nparams_nnz': Array(824458., dtype=float32), '_nparams': Array(824458., dtype=float32)}\n",
            "{'_total_sparsity': Array(0.00355625, dtype=float32), '_nparams_nnz': Array(821526., dtype=float32), '_nparams': Array(824458., dtype=float32)}\n",
            "{'_total_sparsity': Array(0.316158, dtype=float32), '_nparams_nnz': Array(563799., dtype=float32), '_nparams': Array(824458., dtype=float32)}\n",
            "{'_total_sparsity': Array(0.5509765, dtype=float32), '_nparams_nnz': Array(370201., dtype=float32), '_nparams': Array(824458., dtype=float32)}\n",
            "epoch:  1, train_loss: 0.2558, train_accuracy: 92.32, test_loss: 0.0585, test_accuracy: 98.06, time: 72.97\n",
            "{'_total_sparsity': Array(0.65915906, dtype=float32), '_nparams_nnz': Array(281009., dtype=float32), '_nparams': Array(824458., dtype=float32)}\n",
            "{'_total_sparsity': Array(0.79266864, dtype=float32), '_nparams_nnz': Array(170936., dtype=float32), '_nparams': Array(824458., dtype=float32)}\n",
            "{'_total_sparsity': Array(0.8773279, dtype=float32), '_nparams_nnz': Array(101138., dtype=float32), '_nparams': Array(824458., dtype=float32)}\n",
            "{'_total_sparsity': Array(0.92426175, dtype=float32), '_nparams_nnz': Array(62443., dtype=float32), '_nparams': Array(824458., dtype=float32)}\n",
            "{'_total_sparsity': Array(0.9446, dtype=float32), '_nparams_nnz': Array(45675., dtype=float32), '_nparams': Array(824458., dtype=float32)}\n",
            "epoch:  2, train_loss: 0.0532, train_accuracy: 98.38, test_loss: 0.0366, test_accuracy: 98.75, time: 70.96\n",
            "{'_total_sparsity': Array(0.9489725, dtype=float32), '_nparams_nnz': Array(42070., dtype=float32), '_nparams': Array(824458., dtype=float32)}\n",
            "{'_total_sparsity': Array(0.94958144, dtype=float32), '_nparams_nnz': Array(41568., dtype=float32), '_nparams': Array(824458., dtype=float32)}\n",
            "{'_total_sparsity': Array(0.94958144, dtype=float32), '_nparams_nnz': Array(41568., dtype=float32), '_nparams': Array(824458., dtype=float32)}\n",
            "{'_total_sparsity': Array(0.94958144, dtype=float32), '_nparams_nnz': Array(41568., dtype=float32), '_nparams': Array(824458., dtype=float32)}\n",
            "{'_total_sparsity': Array(0.94958144, dtype=float32), '_nparams_nnz': Array(41568., dtype=float32), '_nparams': Array(824458., dtype=float32)}\n",
            "epoch:  3, train_loss: 0.0366, train_accuracy: 98.86, test_loss: 0.0334, test_accuracy: 98.85, time: 65.61\n"
          ]
        }
      ],
      "source": [
        "# 3 epochs trains in 10 seconds in the GPU Colab...\n",
        "\n",
        "state = train_and_evaluate(config)"
      ]
    },
    {
      "cell_type": "markdown",
      "metadata": {
        "id": "droLOMfCliZ8"
      },
      "source": [
        "# One Shot pruning"
      ]
    },
    {
      "cell_type": "code",
      "execution_count": null,
      "metadata": {
        "id": "_prX9QDHmPa1"
      },
      "outputs": [],
      "source": [
        "config.sparsity_config.update_start_step = 0\n",
        "config.sparsity_config.update_end_step = 0\n",
        "config.sparsity_config.skip_gradients=True\n",
        "state = train_and_evaluate(config)"
      ]
    },
    {
      "cell_type": "markdown",
      "metadata": {
        "id": "-mMq2qIuKk-U"
      },
      "source": [
        "# STE"
      ]
    },
    {
      "cell_type": "code",
      "execution_count": null,
      "metadata": {
        "id": "hR114yDYLW8I"
      },
      "outputs": [],
      "source": [
        "# STE also supports gradual pruning schedules.\n",
        "# Here we train weights with sparse forward pass from the start.\n",
        "config.sparsity_config.algorithm = 'magnitude_ste'\n",
        "config.sparsity_config.sparsity = 0.95\n",
        "config.sparsity_config.update_end_step = 0\n",
        "config.sparsity_config.update_start_step = 0\n",
        "config.sparsity_config.dist_type = 'erk'\n",
        "state = train_and_evaluate(config)"
      ]
    },
    {
      "cell_type": "markdown",
      "metadata": {
        "id": "Y7rPvHvyMouE"
      },
      "source": [
        "# Global Pruning"
      ]
    },
    {
      "cell_type": "code",
      "execution_count": null,
      "metadata": {
        "id": "bjTa5fSvMstH"
      },
      "outputs": [],
      "source": [
        "config.sparsity_config.algorithm = 'global_magnitude'\n",
        "config.sparsity_config.update_freq = 10\n",
        "config.sparsity_config.update_end_step = 1000\n",
        "config.sparsity_config.update_start_step = 200\n",
        "config.sparsity_config.sparsity = 0.95\n",
        "config.sparsity_config.dist_type = 'erk'\n",
        "\n",
        "state = train_and_evaluate(config)"
      ]
    },
    {
      "cell_type": "code",
      "execution_count": null,
      "metadata": {
        "id": "iVkUegpfNTBG"
      },
      "outputs": [],
      "source": [
        "jaxpruner.summarize_sparsity(state.opt_state.masks)"
      ]
    },
    {
      "cell_type": "markdown",
      "metadata": {
        "id": "z35houGrNaZR"
      },
      "source": [
        "# Dynamic Sparse Training"
      ]
    },
    {
      "cell_type": "code",
      "execution_count": null,
      "metadata": {
        "id": "Yo6DqrXXNc7J"
      },
      "outputs": [],
      "source": [
        "config.sparsity_config.algorithm = 'rigl'\n",
        "\n",
        "config.sparsity_config.update_freq = 10\n",
        "config.sparsity_config.update_end_step = 1000\n",
        "config.sparsity_config.update_start_step = 1\n",
        "config.sparsity_config.sparsity = 0.95\n",
        "config.sparsity_config.dist_type = 'erk'\n",
        "\n",
        "state = train_and_evaluate(config)"
      ]
    },
    {
      "cell_type": "code",
      "execution_count": null,
      "metadata": {
        "id": "opcu8HK5NsNy"
      },
      "outputs": [],
      "source": [
        "config.sparsity_config.algorithm = 'set'\n",
        "state = train_and_evaluate(config)"
      ]
    },
    {
      "cell_type": "code",
      "execution_count": null,
      "metadata": {
        "id": "VNzNbM4GOF0J"
      },
      "outputs": [],
      "source": [
        "config.sparsity_config.algorithm = 'static_sparse'\n",
        "\n",
        "state = train_and_evaluate(config)"
      ]
    },
    {
      "cell_type": "markdown",
      "metadata": {
        "id": "6rVpOIeDlvyJ"
      },
      "source": [
        "# Pruning After Training"
      ]
    },
    {
      "cell_type": "code",
      "execution_count": null,
      "metadata": {
        "id": "fpZeZRXNlkQf"
      },
      "outputs": [],
      "source": [
        "config.sparsity_config.algorithm = 'no_prune'\n",
        "state = train_and_evaluate(config)"
      ]
    },
    {
      "cell_type": "code",
      "execution_count": null,
      "metadata": {
        "id": "0q8fDRRnlqla"
      },
      "outputs": [],
      "source": [
        "config.sparsity_config.algorithm = 'magnitude'\n",
        "config.sparsity_config.sparsity = 0.9\n",
        "sparsity_updater = jaxpruner.create_updater_from_config(config.sparsity_config)\n",
        "pruned_params, _ = sparsity_updater.instant_sparsify(state.params)\n",
        "print(jaxpruner.summarize_sparsity(pruned_params, only_total_sparsity=True))"
      ]
    },
    {
      "cell_type": "code",
      "execution_count": null,
      "metadata": {
        "id": "_UMvlEqlwcee"
      },
      "outputs": [],
      "source": [
        "_, test_ds = get_datasets()\n",
        "pruned_state = state.replace(params=pruned_params)\n",
        "_, _, test_accuracy  = apply_model(pruned_state, test_ds['image'], test_ds['label'])\n",
        "print(test_accuracy*100)"
      ]
    },
    {
      "cell_type": "markdown",
      "metadata": {
        "id": "EdHqmTATHuJx"
      },
      "source": [
        "# N:M sparsity"
      ]
    },
    {
      "cell_type": "code",
      "execution_count": null,
      "metadata": {
        "id": "6OrndhnkHwYb"
      },
      "outputs": [],
      "source": [
        "config.sparsity_config.algorithm = 'magnitude'\n",
        "config.sparsity_config.sparsity_type = 'nm_1,4'\n",
        "sparsity_updater = jaxpruner.create_updater_from_config(config.sparsity_config)\n",
        "pruned_params, masks = sparsity_updater.instant_sparsify(state.params)\n",
        "print(jaxpruner.summarize_sparsity(pruned_params, only_total_sparsity=True))"
      ]
    },
    {
      "cell_type": "code",
      "execution_count": null,
      "metadata": {
        "id": "kjv8gu_SJeZI"
      },
      "outputs": [],
      "source": [
        "masks['Dense_0']['kernel'][0][:16]"
      ]
    },
    {
      "cell_type": "code",
      "execution_count": null,
      "metadata": {
        "id": "8SL4ASPqHsdw"
      },
      "outputs": [],
      "source": [
        "_, test_ds = get_datasets()\n",
        "pruned_state = state.replace(params=pruned_params)\n",
        "_, _, test_accuracy  = apply_model(pruned_state, test_ds['image'], test_ds['label'])\n",
        "print(test_accuracy*100)"
      ]
    },
    {
      "cell_type": "markdown",
      "metadata": {
        "id": "7tJ-Y0LSJ6b5"
      },
      "source": [
        "# Block Sparsity"
      ]
    },
    {
      "cell_type": "code",
      "execution_count": null,
      "metadata": {
        "id": "l54RegrQJ50D"
      },
      "outputs": [],
      "source": [
        "config.sparsity_config.algorithm = 'magnitude'\n",
        "config.sparsity_config.sparsity = 0.7\n",
        "config.sparsity_config.sparsity_type = 'block_2,2'\n",
        "sparsity_updater = jaxpruner.create_updater_from_config(config.sparsity_config)\n",
        "pruned_params, masks = sparsity_updater.instant_sparsify(state.params)\n",
        "print(jaxpruner.summarize_sparsity(pruned_params, only_total_sparsity=True))"
      ]
    },
    {
      "cell_type": "code",
      "execution_count": null,
      "metadata": {
        "id": "q0vONI48KEaG"
      },
      "outputs": [],
      "source": [
        "masks['Dense_0']['kernel'][:4, :16]"
      ]
    },
    {
      "cell_type": "code",
      "execution_count": null,
      "metadata": {
        "id": "rrNGCVeEJ_Fx"
      },
      "outputs": [],
      "source": [
        "_, test_ds = get_datasets()\n",
        "pruned_state = state.replace(params=pruned_params)\n",
        "_, _, test_accuracy  = apply_model(pruned_state, test_ds['image'], test_ds['label'])\n",
        "print(test_accuracy*100)"
      ]
    },
    {
      "cell_type": "code",
      "execution_count": 3,
      "metadata": {},
      "outputs": [
        {
          "name": "stdout",
          "output_type": "stream",
          "text": [
            "tensor(0.5000)\n",
            "tensor([0., 1., 0.])\n"
          ]
        }
      ],
      "source": [
        "from torchmetrics import Accuracy\n",
        "import torch\n",
        "acc = Accuracy(task='multiclass', num_classes=3)\n",
        "acc_2 = Accuracy(task='multiclass', num_classes=3, average='none')\n",
        "\n",
        "batch_1 = (torch.tensor([[0.1, 0.8, 0.1], [0.1, 0.8, 0.1], [0.1, 0.8, 0.1]]), torch.tensor([0, 1, 1]))\n",
        "batch_2 = (torch.tensor([[0.1, 0.8, 0.1], [0.1, 0.8, 0.1], [0.1, 0.8, 0.1]]), torch.tensor([2, 2, 1]))\n",
        "\n",
        "acc.update(*batch_1)\n",
        "acc.update(*batch_2)\n",
        "print(acc.compute())\n",
        "acc_2.update(*batch_1)\n",
        "acc_2.update(*batch_2)\n",
        "print(acc_2.compute())"
      ]
    },
    {
      "cell_type": "code",
      "execution_count": 2,
      "metadata": {},
      "outputs": [
        {
          "name": "stdout",
          "output_type": "stream",
          "text": [
            "{'test': [(1, 0.1), (2, 0.2), (3, 0.3)]}\n",
            "[{'x': 1, 'y': 0.1}, {'x': 2, 'y': 0.2}, {'x': 3, 'y': 0.3}]\n"
          ]
        }
      ],
      "source": [
        "from utils.figures import SummaryWriter\n",
        "\n",
        "summary_writer = SummaryWriter()\n",
        "summary_writer.add_scalar('test', 0.1, 1)\n",
        "summary_writer.add_scalar('test', 0.2, 2)\n",
        "summary_writer.add_scalar('test', 0.3, 3)\n",
        "print(summary_writer.tracker)\n",
        "print([{\"x\": step, \"y\": value} for step, value in summary_writer.tracker['test']])"
      ]
    }
  ],
  "metadata": {
    "accelerator": "GPU",
    "colab": {
      "private_outputs": true,
      "provenance": [],
      "toc_visible": true
    },
    "kernelspec": {
      "display_name": "Python 3",
      "name": "python3"
    },
    "language_info": {
      "codemirror_mode": {
        "name": "ipython",
        "version": 3
      },
      "file_extension": ".py",
      "mimetype": "text/x-python",
      "name": "python",
      "nbconvert_exporter": "python",
      "pygments_lexer": "ipython3",
      "version": "3.10.13"
    },
    "orig_nbformat": 2
  },
  "nbformat": 4,
  "nbformat_minor": 0
}
